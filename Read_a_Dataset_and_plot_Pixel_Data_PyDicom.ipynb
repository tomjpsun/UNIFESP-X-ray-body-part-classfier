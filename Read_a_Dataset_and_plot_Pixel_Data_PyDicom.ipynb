{
  "nbformat": 4,
  "nbformat_minor": 0,
  "metadata": {
    "colab": {
      "name": "Read a Dataset and plot Pixel Data PyDicom.ipynb",
      "provenance": [],
      "collapsed_sections": []
    },
    "kernelspec": {
      "name": "python3",
      "display_name": "Python 3"
    },
    "language_info": {
      "name": "python"
    }
  },
  "cells": [
    {
      "cell_type": "code",
      "execution_count": null,
      "metadata": {
        "colab": {
          "base_uri": "https://localhost:8080/",
          "height": 376
        },
        "id": "9_seu8wz3-KQ",
        "outputId": "42fab41a-dda4-4f9a-f07c-9c1309a3f66e"
      },
      "outputs": [
        {
          "output_type": "error",
          "ename": "ModuleNotFoundError",
          "evalue": "ignored",
          "traceback": [
            "\u001b[0;31m---------------------------------------------------------------------------\u001b[0m",
            "\u001b[0;31mModuleNotFoundError\u001b[0m                       Traceback (most recent call last)",
            "\u001b[0;32m<ipython-input-2-20ca44e803ce>\u001b[0m in \u001b[0;36m<module>\u001b[0;34m()\u001b[0m\n\u001b[1;32m     15\u001b[0m \u001b[0;34m\u001b[0m\u001b[0m\n\u001b[1;32m     16\u001b[0m \u001b[0;32mimport\u001b[0m \u001b[0mmatplotlib\u001b[0m\u001b[0;34m.\u001b[0m\u001b[0mpyplot\u001b[0m \u001b[0;32mas\u001b[0m \u001b[0mplt\u001b[0m\u001b[0;34m\u001b[0m\u001b[0;34m\u001b[0m\u001b[0m\n\u001b[0;32m---> 17\u001b[0;31m \u001b[0;32mimport\u001b[0m \u001b[0mpydicom\u001b[0m\u001b[0;34m\u001b[0m\u001b[0;34m\u001b[0m\u001b[0m\n\u001b[0m\u001b[1;32m     18\u001b[0m \u001b[0;32mimport\u001b[0m \u001b[0mos\u001b[0m\u001b[0;34m\u001b[0m\u001b[0;34m\u001b[0m\u001b[0m\n\u001b[1;32m     19\u001b[0m \u001b[0;32mfrom\u001b[0m \u001b[0mos\u001b[0m \u001b[0;32mimport\u001b[0m \u001b[0mlistdir\u001b[0m\u001b[0;34m\u001b[0m\u001b[0;34m\u001b[0m\u001b[0m\n",
            "\u001b[0;31mModuleNotFoundError\u001b[0m: No module named 'pydicom'",
            "",
            "\u001b[0;31m---------------------------------------------------------------------------\u001b[0;32m\nNOTE: If your import is failing due to a missing package, you can\nmanually install dependencies using either !pip or !apt.\n\nTo view examples of installing some common dependencies, click the\n\"Open Examples\" button below.\n\u001b[0;31m---------------------------------------------------------------------------\u001b[0m\n"
          ],
          "errorDetails": {
            "actions": [
              {
                "action": "open_url",
                "actionText": "Open Examples",
                "url": "/notebooks/snippets/importing_libraries.ipynb"
              }
            ]
          }
        }
      ],
      "source": [
        "# Steps:\n",
        "# read data\n",
        "# prepare data\n",
        "# design network\n",
        "#   select existed model\n",
        "#   select optimizer\n",
        "#   select activation function\n",
        "#   select evaluation method\n",
        "#train data\n",
        "#test data\n",
        "#draw analysis graph\n",
        "#output result \n",
        "#Propose outcome documents   \n",
        "\n",
        "\n",
        "import matplotlib.pyplot as plt\n",
        "import pydicom\n",
        "import os\n",
        "from os import listdir\n",
        "from os.path import isfile, isdir, join\n",
        "from os import walk\n",
        "\n",
        "#=====read data=====\n",
        "\n",
        "dataset_path = r\"E:\\datasets\\unifesp-x-ray-body-part-classifier\"\n",
        "train_dir = \"train\"\n",
        "test_dir = \"test\"\n",
        "train_path = os.path.join(dataset_path,train_dir)\n",
        "test_path = os.path.join(dataset_path,test_dir)\n",
        "\n",
        "#walk image files\n",
        "for root, dirs, files in os.walk(train_path):\n",
        "    for name in files:\n",
        "    #    print(os.path.join(root, name))\n",
        "        ds = pydicom.dcmread(os.path.join(root, name))\n",
        "        #plt.subplot(2, 2, 1)\n",
        "        plt.imshow(ds.pixel_array, cmap=plt.cm.gray)\n",
        "        plt.show()\n",
        "    #for name in dirs:\n",
        "    #    print(os.path.join(root, name))"
      ]
    }
  ]
}